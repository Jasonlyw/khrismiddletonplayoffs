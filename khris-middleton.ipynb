{
 "cells": [
  {
   "cell_type": "code",
   "execution_count": 1,
   "metadata": {
    "_cell_guid": "b1076dfc-b9ad-4769-8c92-a6c4dae69d19",
    "_uuid": "8f2839f25d086af736a60e9eeb907d3b93b6e0e5"
   },
   "outputs": [
    {
     "name": "stdout",
     "output_type": "stream",
     "text": [
      "['khrismiddleton.csv']\n"
     ]
    }
   ],
   "source": [
    "# This Python 3 environment comes with many helpful analytics libraries installed\n",
    "# It is defined by the kaggle/python docker image: https://github.com/kaggle/docker-python\n",
    "# For example, here's several helpful packages to load in \n",
    "\n",
    "import numpy as np # linear algebra\n",
    "import pandas as pd # data processing, CSV file I/O (e.g. pd.read_csv)\n",
    "import sqlite3 as sql\n",
    "import matplotlib.pyplot as plt\n",
    "# Input data files are available in the \"../input/\" directory.\n",
    "# For example, running this (by clicking run or pressing Shift+Enter) will list the files in the input directory\n",
    "\n",
    "import os\n",
    "print(os.listdir(\"../input\"))\n",
    "\n",
    "# Any results you write to the current directory are saved as output."
   ]
  },
  {
   "cell_type": "code",
   "execution_count": 2,
   "metadata": {},
   "outputs": [],
   "source": [
    "# Entire Dataframe\n",
    "df = pd.read_csv('../input/khrismiddleton.csv')"
   ]
  },
  {
   "cell_type": "code",
   "execution_count": 3,
   "metadata": {},
   "outputs": [],
   "source": [
    "# Connect to SQL\n",
    "conn = sql.connect(\"nba.db\")\n",
    "df.to_sql(\"khrismiddleton\", conn)"
   ]
  },
  {
   "cell_type": "code",
   "execution_count": 4,
   "metadata": {},
   "outputs": [
    {
     "data": {
      "text/html": [
       "<div>\n",
       "<style scoped>\n",
       "    .dataframe tbody tr th:only-of-type {\n",
       "        vertical-align: middle;\n",
       "    }\n",
       "\n",
       "    .dataframe tbody tr th {\n",
       "        vertical-align: top;\n",
       "    }\n",
       "\n",
       "    .dataframe thead th {\n",
       "        text-align: right;\n",
       "    }\n",
       "</style>\n",
       "<table border=\"1\" class=\"dataframe\">\n",
       "  <thead>\n",
       "    <tr style=\"text-align: right;\">\n",
       "      <th></th>\n",
       "      <th>Oppo</th>\n",
       "      <th>PPG</th>\n",
       "      <th>FGM</th>\n",
       "      <th>FGA</th>\n",
       "      <th>FG%</th>\n",
       "      <th>3PM</th>\n",
       "      <th>3PA</th>\n",
       "      <th>3P%</th>\n",
       "    </tr>\n",
       "  </thead>\n",
       "  <tbody>\n",
       "    <tr>\n",
       "      <th>0</th>\n",
       "      <td>TOR</td>\n",
       "      <td>14.5</td>\n",
       "      <td>5.2</td>\n",
       "      <td>13.0</td>\n",
       "      <td>39.7</td>\n",
       "      <td>1.2</td>\n",
       "      <td>3.2</td>\n",
       "      <td>36.8</td>\n",
       "    </tr>\n",
       "    <tr>\n",
       "      <th>1</th>\n",
       "      <td>DET</td>\n",
       "      <td>19.0</td>\n",
       "      <td>6.0</td>\n",
       "      <td>13.0</td>\n",
       "      <td>46.2</td>\n",
       "      <td>2.8</td>\n",
       "      <td>6.0</td>\n",
       "      <td>45.8</td>\n",
       "    </tr>\n",
       "    <tr>\n",
       "      <th>2</th>\n",
       "      <td>BOS</td>\n",
       "      <td>24.1</td>\n",
       "      <td>9.1</td>\n",
       "      <td>15.8</td>\n",
       "      <td>57.7</td>\n",
       "      <td>3.9</td>\n",
       "      <td>6.1</td>\n",
       "      <td>63.6</td>\n",
       "    </tr>\n",
       "  </tbody>\n",
       "</table>\n",
       "</div>"
      ],
      "text/plain": [
       "  Oppo   PPG  FGM   FGA   FG%  3PM  3PA   3P%\n",
       "0  TOR  14.5  5.2  13.0  39.7  1.2  3.2  36.8\n",
       "1  DET  19.0  6.0  13.0  46.2  2.8  6.0  45.8\n",
       "2  BOS  24.1  9.1  15.8  57.7  3.9  6.1  63.6"
      ]
     },
     "execution_count": 4,
     "metadata": {},
     "output_type": "execute_result"
    }
   ],
   "source": [
    "# SQL query\n",
    "sql_joint = '''\n",
    "SELECT Oppo, ROUND(AVG(PTS),1) AS PPG, ROUND(AVG(FGM),1) AS FGM, ROUND(AVG(FGA),1) AS FGA, ROUND(AVG(FGM)/AVG(FGA) * 100, 1) AS \"FG%\", ROUND(AVG(\"3PM\"),1) AS \"3PM\", ROUND(AVG(\"3PA\"),1) AS \"3PA\", ROUND(AVG(\"3PM\")/AVG(\"3PA\") * 100,1) AS \"3P%\"\n",
    "FROM khrismiddleton\n",
    "GROUP BY Oppo\n",
    "ORDER BY 1 DESC\n",
    "'''\n",
    "\n",
    "joint_df = pd.read_sql(sql_joint, conn)\n",
    "joint_df"
   ]
  },
  {
   "cell_type": "code",
   "execution_count": 5,
   "metadata": {},
   "outputs": [
    {
     "data": {
      "text/html": [
       "<div>\n",
       "<style scoped>\n",
       "    .dataframe tbody tr th:only-of-type {\n",
       "        vertical-align: middle;\n",
       "    }\n",
       "\n",
       "    .dataframe tbody tr th {\n",
       "        vertical-align: top;\n",
       "    }\n",
       "\n",
       "    .dataframe thead th {\n",
       "        text-align: right;\n",
       "    }\n",
       "</style>\n",
       "<table border=\"1\" class=\"dataframe\">\n",
       "  <thead>\n",
       "    <tr style=\"text-align: right;\">\n",
       "      <th></th>\n",
       "      <th>PPG</th>\n",
       "      <th>FGM</th>\n",
       "      <th>FGA</th>\n",
       "      <th>FG%</th>\n",
       "      <th>3PM</th>\n",
       "      <th>3PA</th>\n",
       "      <th>3P%</th>\n",
       "    </tr>\n",
       "    <tr>\n",
       "      <th>Oppo</th>\n",
       "      <th></th>\n",
       "      <th></th>\n",
       "      <th></th>\n",
       "      <th></th>\n",
       "      <th></th>\n",
       "      <th></th>\n",
       "      <th></th>\n",
       "    </tr>\n",
       "  </thead>\n",
       "  <tbody>\n",
       "    <tr>\n",
       "      <th>TOR</th>\n",
       "      <td>14.5</td>\n",
       "      <td>5.2</td>\n",
       "      <td>13.0</td>\n",
       "      <td>39.7</td>\n",
       "      <td>1.2</td>\n",
       "      <td>3.2</td>\n",
       "      <td>36.8</td>\n",
       "    </tr>\n",
       "    <tr>\n",
       "      <th>DET</th>\n",
       "      <td>19.0</td>\n",
       "      <td>6.0</td>\n",
       "      <td>13.0</td>\n",
       "      <td>46.2</td>\n",
       "      <td>2.8</td>\n",
       "      <td>6.0</td>\n",
       "      <td>45.8</td>\n",
       "    </tr>\n",
       "    <tr>\n",
       "      <th>BOS</th>\n",
       "      <td>24.1</td>\n",
       "      <td>9.1</td>\n",
       "      <td>15.8</td>\n",
       "      <td>57.7</td>\n",
       "      <td>3.9</td>\n",
       "      <td>6.1</td>\n",
       "      <td>63.6</td>\n",
       "    </tr>\n",
       "  </tbody>\n",
       "</table>\n",
       "</div>"
      ],
      "text/plain": [
       "       PPG  FGM   FGA   FG%  3PM  3PA   3P%\n",
       "Oppo                                       \n",
       "TOR   14.5  5.2  13.0  39.7  1.2  3.2  36.8\n",
       "DET   19.0  6.0  13.0  46.2  2.8  6.0  45.8\n",
       "BOS   24.1  9.1  15.8  57.7  3.9  6.1  63.6"
      ]
     },
     "execution_count": 5,
     "metadata": {},
     "output_type": "execute_result"
    }
   ],
   "source": [
    "# Set opponent team name as index\n",
    "joint_df.set_index('Oppo')"
   ]
  },
  {
   "cell_type": "code",
   "execution_count": 6,
   "metadata": {},
   "outputs": [
    {
     "data": {
      "image/png": "[encoded data removed]",
      "text/plain": [
       "<Figure size 432x288 with 1 Axes>"
      ]
     },
     "metadata": {},
     "output_type": "display_data"
    }
   ],
   "source": [
    "# Build bar plot, set bar color=#3F7AD2, title, x,y component, y limit\n",
    "ax_ppg = joint_df.plot(kind='bar', facecolor='#3F7AD2', title='Khris Middleton Playoffs PPG vs different teams', x='Oppo', y='PPG', ylim=(0,30))\n",
    "\n",
    "# Rotate x axis annotation\n",
    "plt.xticks(rotation=0)\n",
    "\n",
    "# Remove x label\n",
    "ax_ppg.xaxis.set_label_text(\"\")\n",
    "\n",
    "# Remove legend\n",
    "ax_ppg.get_legend().remove()\n",
    "\n",
    "# Display y value on each bar\n",
    "y_ppg = list(joint_df['PPG'])\n",
    "\n",
    "for i,v in enumerate(y_ppg):\n",
    "    plt.text(i, v + 0.5, str(v), color='black', ha='center')\n",
    "\n",
    "\n"
   ]
  },
  {
   "cell_type": "code",
   "execution_count": 7,
   "metadata": {},
   "outputs": [
    {
     "data": {
      "image/png": "[encoded data removed]",
      "text/plain": [
       "<Figure size 432x288 with 1 Axes>"
      ]
     },
     "metadata": {},
     "output_type": "display_data"
    }
   ],
   "source": [
    "ax_shooting = joint_df.plot(kind='bar', title='Khris Middleton Playoffs Shooting Percentage vs different teams', x='Oppo', y=['FG%','3P%'], ylim=(0,100))\n",
    "\n",
    "# Rotate x axis annotation\n",
    "plt.xticks(rotation=0)\n",
    "\n",
    "# Remove x label\n",
    "ax_shooting.xaxis.set_label_text(\"\")\n",
    "\n",
    "# Remove legend\n",
    "# ax_shooting.get_legend().remove()\n",
    "\n",
    "# Display y value on each bar\n",
    "y_fg = list(joint_df['FG%'])\n",
    "y_3p = list(joint_df['3P%'])\n",
    "\n",
    "for i,v in enumerate(y_fg):\n",
    "    plt.text(i, v + 1, str(v), color='black', ha='right')\n",
    "for i,v in enumerate(y_3p):\n",
    "    plt.text(i, v + 1, str(v), color='black', ha='left')\n"
   ]
  }
 ],
 "metadata": {
  "kernelspec": {
   "display_name": "Python 3",
   "language": "python",
   "name": "python3"
  },
  "language_info": {
   "codemirror_mode": {
    "name": "ipython",
    "version": 3
   },
   "file_extension": ".py",
   "mimetype": "text/x-python",
   "name": "python",
   "nbconvert_exporter": "python",
   "pygments_lexer": "ipython3",
   "version": "3.6.4"
  }
 },
 "nbformat": 4,
 "nbformat_minor": 1
}
